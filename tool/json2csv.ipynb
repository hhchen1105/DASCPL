{
 "cells": [
  {
   "cell_type": "code",
   "execution_count": null,
   "metadata": {},
   "outputs": [],
   "source": [
    "# by HoRan\n",
    "import os\n",
    "import pathlib\n",
    "from pathlib import Path\n",
    "import re\n",
    "import json\n",
    "import pandas as pd\n",
    "\n",
    "def get_content(path):\n",
    "    dir_path = path\n",
    "    if dir_path == \"\":\n",
    "        dir_path = os.getcwd()\n",
    "\n",
    "    dir_list = list()\n",
    "    file_list = list()\n",
    "    entries = Path(dir_path)\n",
    "\n",
    "    entries = sorted(entries.iterdir(),key = lambda s: s.name)\n",
    "\n",
    "    for entry in entries:\n",
    "        if entry.is_file():\n",
    "            file_list.append(entry)\n",
    "        if entry.is_dir():\n",
    "            dir_list.append(entry)\n",
    "\n",
    "    return dir_list, file_list\n",
    "\n",
    "def get_child_content(path):\n",
    "    dir_list, file_list = get_content(path)\n",
    "\n",
    "    new_dir_list = list() \n",
    "    new_file_list = list() \n",
    "\n",
    "    for i,dir in enumerate(dir_list, 0):\n",
    "        name = path+\"\\\\\"+dir.name\n",
    "        new_dir_list.append(name)\n",
    "\n",
    "    for i, file in enumerate(file_list, 0):\n",
    "        name = path+\"\\\\\"+file.name\n",
    "        new_file_list.append(name)\n",
    "\n",
    "    re_dir = new_dir_list\n",
    "    re_file = new_file_list\n",
    "\n",
    "    return re_dir, re_file  \n",
    "\n",
    "dir_list, file_list = get_child_content('.')"
   ]
  },
  {
   "cell_type": "code",
   "execution_count": null,
   "metadata": {},
   "outputs": [],
   "source": [
    "\n",
    "str_ = file_list[1]\n",
    "print(str_)\n",
    "st = \"(.*?)\\\\\\g\\((.*?)\\)_d\\((.*?)\\)_b\\((.*?)\\)_m\\((.*?)\\)_l\\((.*?)\\)_proj\\((.*?)\\)_d\\((.*?)\\)\"\n",
    "data = re.findall(st, str_)\n",
    "print(data)\n"
   ]
  },
  {
   "cell_type": "code",
   "execution_count": null,
   "metadata": {},
   "outputs": [],
   "source": [
    "result_info = list()\n",
    "for i in file_list:\n",
    "    if '.json' in i:\n",
    "        data = re.findall(st,i)\n",
    "    else:\n",
    "        continue\n",
    "    info = {\n",
    "        \"token\": data[0][0],\n",
    "        \"gpu_num\": int(data[0][1]),\n",
    "        \"dataset\": data[0][2],\n",
    "        \"batch_size\": data[0][3],\n",
    "        \"model\": data[0][4],\n",
    "        \"layers\": int(data[0][5]),\n",
    "        \"path\": i\n",
    "    }\n",
    "    \n",
    "    result_info.append(info)\n"
   ]
  },
  {
   "cell_type": "code",
   "execution_count": null,
   "metadata": {},
   "outputs": [],
   "source": [
    "output_data = list()\n",
    "for idx, _ in enumerate(result_info):\n",
    "    with open(result_info[idx]['path']) as json_file:\n",
    "        json_contect = json_file.read()\n",
    "        model_result = json.loads(json_contect)\n",
    "        model_hyper = model_result[\"model hpyerparameter\"]\n",
    "        model_stat = model_result[\"statistics\"]\n",
    "\n",
    "        model_info = {\n",
    "            \"model_name\": model_hyper[\"model\"],\n",
    "            \"dataset\": model_hyper[\"dataset\"],\n",
    "            \"proj_type\": model_hyper[\"proj_type\"],\n",
    "            \"batch_size\": model_hyper[\"train_bsz\"],\n",
    "            \"layers\": model_hyper[\"layers\"], \n",
    "            \"max_len\": model_hyper[\"max_len\"],\n",
    "            \"batch_size\": model_hyper[\"train_bsz\"],\n",
    "            \"gpu_num\": len(set((model_hyper[\"gpu_ids\"]).split(','))),\n",
    "            \"multi_t\": str(model_hyper[\"multi_t\"]),\n",
    "            \"best test acc. mean\": model_stat[\"best test acc. mean\"],\n",
    "            \"best test acc. std\": model_stat[\"best test acc. std\"],\n",
    "            \"best epoch mean\": model_stat[\"best epoch mean\"],\n",
    "            \"best epoch std\": model_stat[\"best epoch std\"],\n",
    "            \"epoch_time mean\": model_stat[\"epoch_time mean\"],\n",
    "            \"epoch_time std\": model_stat[\"epoch_time std\"],\n",
    "            \"runtime mean\": model_stat[\"runtime mean\"],\n",
    "            \"runtime std\": model_stat[\"runtime std\"],\n",
    "        }\n",
    "        output_data.append(model_info)"
   ]
  },
  {
   "cell_type": "code",
   "execution_count": null,
   "metadata": {},
   "outputs": [],
   "source": [
    "model_pd = pd.DataFrame(output_data)\n",
    "output_path = \"result.csv\"\n",
    "model_pd.to_csv(output_path, index=False)"
   ]
  }
 ],
 "metadata": {
  "kernelspec": {
   "display_name": "sl",
   "language": "python",
   "name": "python3"
  },
  "language_info": {
   "codemirror_mode": {
    "name": "ipython",
    "version": 3
   },
   "file_extension": ".py",
   "mimetype": "text/x-python",
   "name": "python",
   "nbconvert_exporter": "python",
   "pygments_lexer": "ipython3",
   "version": "3.8.15"
  },
  "orig_nbformat": 4
 },
 "nbformat": 4,
 "nbformat_minor": 2
}
